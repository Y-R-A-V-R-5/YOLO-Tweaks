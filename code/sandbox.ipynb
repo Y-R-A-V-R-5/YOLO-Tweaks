{
 "cells": [
  {
   "cell_type": "code",
   "execution_count": null,
   "id": "b681c9be",
   "metadata": {},
   "outputs": [],
   "source": [
    "from ultralytics import YOLO\n",
    "import os\n",
    "\n",
    "# --- Global constants ---\n",
    "DATA_YAML = \"../plantDoc-4/data.yaml\"\n",
    "IMGSZ = 640\n",
    "EPOCHS = \n",
    "BATCH_SIZE = 4\n",
    "RESULTS_DIR = \"../runs/snadbox\"\n",
    "os.makedirs(RESULTS_DIR, exist_ok=True)"
   ]
  },
  {
   "cell_type": "code",
   "execution_count": 4,
   "id": "24596c48",
   "metadata": {},
   "outputs": [],
   "source": [
    "def train_model(model_path):\n",
    "    model_name = os.path.splitext(os.path.basename(model_path))[0]\n",
    "    save_dir = os.path.join(RESULTS_DIR, model_name)\n",
    "    \n",
    "    print(f\"\\nTraining model: {model_name}\")\n",
    "    print(f\"Data yaml: {DATA_YAML}\")\n",
    "    print(f\"Image size: {IMGSZ}\")\n",
    "    print(f\"Epochs: {EPOCHS}\")\n",
    "    print(f\"Batch size: {BATCH_SIZE}\")\n",
    "    print(f\"Results will be saved to: {save_dir}\")\n",
    "    \n",
    "    model = YOLO(model_path)\n",
    "    model.train(\n",
    "        data=DATA_YAML,\n",
    "        imgsz=IMGSZ,\n",
    "        epochs=EPOCHS,\n",
    "        batch=BATCH_SIZE,\n",
    "        project=RESULTS_DIR,\n",
    "        name=model_name,\n",
    "        exist_ok=True,\n",
    "    )\n",
    "    print(f\"Training completed for {model_name}!\")"
   ]
  },
  {
   "cell_type": "code",
   "execution_count": null,
   "id": "cf10e52c",
   "metadata": {},
   "outputs": [
    {
     "name": "stdout",
     "output_type": "stream",
     "text": [
      "\n",
      "Training model: Ghost\n",
      "Data yaml: ../plantDoc-4/data.yaml\n",
      "Image size: 640\n",
      "Epochs: 25\n",
      "Batch size: 4\n",
      "Results will be saved to: ../runs/snadbox\\Ghost\n",
      "New https://pypi.org/project/ultralytics/8.3.217 available  Update with 'pip install -U ultralytics'\n",
      "Ultralytics 8.3.214  Python-3.10.18 torch-2.9.0+cpu CPU (13th Gen Intel Core(TM) i5-1335U)\n",
      "\u001b[34m\u001b[1mengine\\trainer: \u001b[0magnostic_nms=False, amp=True, augment=False, auto_augment=randaugment, batch=4, bgr=0.0, box=7.5, cache=False, cfg=None, classes=None, close_mosaic=10, cls=0.5, compile=False, conf=None, copy_paste=0.0, copy_paste_mode=flip, cos_lr=False, cutmix=0.0, data=../plantDoc-4/data.yaml, degrees=0.0, deterministic=True, device=cpu, dfl=1.5, dnn=False, dropout=0.0, dynamic=False, embed=None, epochs=25, erasing=0.4, exist_ok=True, fliplr=0.5, flipud=0.0, format=torchscript, fraction=1.0, freeze=None, half=False, hsv_h=0.015, hsv_s=0.7, hsv_v=0.4, imgsz=640, int8=False, iou=0.7, keras=False, kobj=1.0, line_width=None, lr0=0.01, lrf=0.01, mask_ratio=4, max_det=300, mixup=0.0, mode=train, model=../sandbox/Ghost.yaml, momentum=0.937, mosaic=1.0, multi_scale=False, name=Ghost, nbs=64, nms=False, opset=None, optimize=False, optimizer=auto, overlap_mask=True, patience=100, perspective=0.0, plots=True, pose=12.0, pretrained=True, profile=False, project=../runs/snadbox, rect=False, resume=False, retina_masks=False, save=True, save_conf=False, save_crop=False, save_dir=C:\\Users\\ADITHYA\\OneDrive\\Desktop\\YOLO-Tweaks\\runs\\snadbox\\Ghost, save_frames=False, save_json=False, save_period=-1, save_txt=False, scale=0.5, seed=0, shear=0.0, show=False, show_boxes=True, show_conf=True, show_labels=True, simplify=True, single_cls=False, source=None, split=val, stream_buffer=False, task=detect, time=None, tracker=botsort.yaml, translate=0.1, val=True, verbose=True, vid_stride=1, visualize=False, warmup_bias_lr=0.1, warmup_epochs=3.0, warmup_momentum=0.8, weight_decay=0.0005, workers=8, workspace=None\n",
      "Overriding model.yaml nc=41 with nc=30\n",
      "\n",
      "                   from  n    params  module                                       arguments                     \n",
      "  0                  -1  1       448  ultralytics.nn.modules.conv.GhostConv        [3, 16, 3, 1]                 \n",
      "  1                  -1  1      2768  ultralytics.nn.modules.conv.GhostConv        [16, 32, 3, 2]                \n",
      "  2                  -1  1      7360  ultralytics.nn.modules.block.C2f             [32, 32, 1]                   \n",
      "  3                  -1  1     10144  ultralytics.nn.modules.conv.GhostConv        [32, 64, 3, 2]                \n",
      "  4                  -1  1     29056  ultralytics.nn.modules.block.C2f             [64, 64, 1]                   \n",
      "  5                  -1  1     38720  ultralytics.nn.modules.conv.GhostConv        [64, 128, 3, 2]               \n",
      "  6                  -1  1    115456  ultralytics.nn.modules.block.C2f             [128, 128, 1]                 \n",
      "  7                  -1  1    151168  ultralytics.nn.modules.conv.GhostConv        [128, 256, 3, 2]              \n",
      "  8                  -1  1    164608  ultralytics.nn.modules.block.SPPF            [256, 256, 5]                 \n",
      "  9                  -1  1     18240  ultralytics.nn.modules.conv.GhostConv        [256, 128, 1, 1]              \n",
      " 10                  -1  1         0  torch.nn.modules.upsampling.Upsample         [None, 2, 'nearest']          \n",
      " 11             [-1, 6]  1         0  ultralytics.nn.modules.conv.Concat           [1]                           \n",
      " 12                  -1  1    131840  ultralytics.nn.modules.block.C2f             [256, 128, 1]                 \n",
      " 13                  -1  1      5024  ultralytics.nn.modules.conv.GhostConv        [128, 64, 1, 1]               \n",
      " 14                  -1  1         0  torch.nn.modules.upsampling.Upsample         [None, 2, 'nearest']          \n",
      " 15             [-1, 4]  1         0  ultralytics.nn.modules.conv.Concat           [1]                           \n",
      " 16                  -1  1     33152  ultralytics.nn.modules.block.C2f             [128, 64, 1]                  \n",
      " 17                  -1  1     19360  ultralytics.nn.modules.conv.GhostConv        [64, 64, 3, 2]                \n",
      " 18            [-1, 13]  1         0  ultralytics.nn.modules.conv.Concat           [1]                           \n",
      " 19                  -1  1    115456  ultralytics.nn.modules.block.C2f             [128, 128, 1]                 \n",
      " 20                  -1  1     75584  ultralytics.nn.modules.conv.GhostConv        [128, 128, 3, 2]              \n",
      " 21             [-1, 9]  1         0  ultralytics.nn.modules.conv.Concat           [1]                           \n",
      " 22                  -1  1    460288  ultralytics.nn.modules.block.C2f             [256, 256, 1]                 \n",
      " 23        [17, 20, 22]  1    757162  ultralytics.nn.modules.head.Detect           [30, [64, 128, 256]]          \n",
      "Ghost summary: 135 layers, 2,135,834 parameters, 2,135,818 gradients, 18.5 GFLOPs\n",
      "\n",
      "Freezing layer 'model.23.dfl.conv.weight'\n",
      "\u001b[34m\u001b[1mtrain: \u001b[0mFast image access  (ping: 0.50.2 ms, read: 44.825.1 MB/s, size: 34.6 KB)\n",
      "\u001b[K\u001b[34m\u001b[1mtrain: \u001b[0mScanning C:\\Users\\ADITHYA\\OneDrive\\Desktop\\YOLO-Tweaks\\PlantDoc-4\\train\\labels.cache... 2009 images, 9 backgrounds, 0 corrupt: 100% ━━━━━━━━━━━━ 2009/2009 2.0Mit/s 0.0s\n",
      "\u001b[34m\u001b[1mval: \u001b[0mFast image access  (ping: 0.40.1 ms, read: 179.7155.6 MB/s, size: 215.5 KB)\n",
      "\u001b[K\u001b[34m\u001b[1mval: \u001b[0mScanning C:\\Users\\ADITHYA\\OneDrive\\Desktop\\YOLO-Tweaks\\PlantDoc-4\\valid\\labels.cache... 314 images, 1 backgrounds, 0 corrupt: 100% ━━━━━━━━━━━━ 314/314 283.4Kit/s 0.0s\n",
      "Plotting labels to C:\\Users\\ADITHYA\\OneDrive\\Desktop\\YOLO-Tweaks\\runs\\snadbox\\Ghost\\labels.jpg... \n",
      "\u001b[34m\u001b[1moptimizer:\u001b[0m 'optimizer=auto' found, ignoring 'lr0=0.01' and 'momentum=0.937' and determining best 'optimizer', 'lr0' and 'momentum' automatically... \n",
      "\u001b[34m\u001b[1moptimizer:\u001b[0m AdamW(lr=0.000294, momentum=0.9) with parameter groups 60 weight(decay=0.0), 67 weight(decay=0.0005), 66 bias(decay=0.0)\n",
      "Image sizes 640 train, 640 val\n",
      "Using 0 dataloader workers\n",
      "Logging results to \u001b[1mC:\\Users\\ADITHYA\\OneDrive\\Desktop\\YOLO-Tweaks\\runs\\snadbox\\Ghost\u001b[0m\n",
      "Starting training for 25 epochs...\n",
      "\n",
      "      Epoch    GPU_mem   box_loss   cls_loss   dfl_loss  Instances       Size\n",
      "\u001b[K       1/25         0G      3.323      5.297      4.207         36        640: 5% ╸─────────── 24/503 0.2it/s 1:57<37:2537"
     ]
    }
   ],
   "source": [
    "train_model(\"../sandbox/Ghost.yaml\")"
   ]
  },
  {
   "cell_type": "code",
   "execution_count": null,
   "id": "23953b0a",
   "metadata": {},
   "outputs": [],
   "source": []
  }
 ],
 "metadata": {
  "kernelspec": {
   "display_name": "ultragnostics",
   "language": "python",
   "name": "python3"
  },
  "language_info": {
   "codemirror_mode": {
    "name": "ipython",
    "version": 3
   },
   "file_extension": ".py",
   "mimetype": "text/x-python",
   "name": "python",
   "nbconvert_exporter": "python",
   "pygments_lexer": "ipython3",
   "version": "3.10.18"
  }
 },
 "nbformat": 4,
 "nbformat_minor": 5
}
